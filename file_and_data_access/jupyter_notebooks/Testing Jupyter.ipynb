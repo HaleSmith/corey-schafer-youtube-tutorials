{
 "cells": [
  {
   "cell_type": "markdown",
   "metadata": {},
   "source": [
    "# Sample Headline\n",
    "\n",
    "*Note: This text will be italicized.*\n",
    "\n",
    "## Another Headline (H2)\n",
    "\n",
    "This is a normal paragraph. There is some text to view\n",
    "\n",
    "### What this notebook shows\n",
    "\n",
    "1. How to get started with notebooks\n",
    "2. How to exeute code\n",
    "3. How to add markdown\n",
    "4. Other topics\n",
    "\n",
    "# Restarting a notebook\n",
    "1. Kernel\n",
    "2. Restart & Clear output"
   ]
  },
  {
   "cell_type": "code",
   "execution_count": 1,
   "metadata": {},
   "outputs": [],
   "source": [
    "name = 'John'"
   ]
  },
  {
   "cell_type": "code",
   "execution_count": 2,
   "metadata": {},
   "outputs": [
    {
     "data": {
      "text/plain": [
       "'John'"
      ]
     },
     "execution_count": 2,
     "metadata": {},
     "output_type": "execute_result"
    }
   ],
   "source": [
    "name"
   ]
  },
  {
   "cell_type": "code",
   "execution_count": 3,
   "metadata": {},
   "outputs": [],
   "source": [
    "name = 'Corey'"
   ]
  },
  {
   "cell_type": "markdown",
   "metadata": {},
   "source": [
    "# Some LaTex:\n",
    "\n",
    "$$c = \\sqrt{a^2 + b^2}$$"
   ]
  },
  {
   "cell_type": "markdown",
   "metadata": {},
   "source": [
    "# Below is some syntax for accessing python commands that might be used in a terminal"
   ]
  },
  {
   "cell_type": "code",
   "execution_count": 4,
   "metadata": {},
   "outputs": [
    {
     "name": "stdout",
     "output_type": "stream",
     "text": [
      "Package                            Version  \n",
      "---------------------------------- ---------\n",
      "alabaster                          0.7.11   \n",
      "anaconda-client                    1.7.2    \n",
      "anaconda-navigator                 1.9.2    \n",
      "anaconda-project                   0.8.2    \n",
      "appdirs                            1.4.3    \n",
      "asn1crypto                         0.24.0   \n",
      "astroid                            2.0.4    \n",
      "astropy                            3.0.4    \n",
      "atomicwrites                       1.2.1    \n",
      "attrs                              18.2.0   \n",
      "Automat                            0.7.0    \n",
      "Babel                              2.6.0    \n",
      "backcall                           0.1.0    \n",
      "backports.shutil-get-terminal-size 1.0.0    \n",
      "beautifulsoup4                     4.6.3    \n",
      "bitarray                           0.8.3    \n",
      "bkcharts                           0.2      \n",
      "blaze                              0.11.3   \n",
      "bleach                             2.1.4    \n",
      "bokeh                              0.13.0   \n",
      "boto                               2.49.0   \n",
      "Bottleneck                         1.2.1    \n",
      "certifi                            2018.8.24\n",
      "cffi                               1.11.5   \n",
      "chardet                            3.0.4    \n",
      "click                              6.7      \n",
      "cloudpickle                        0.5.5    \n",
      "clyent                             1.2.2    \n",
      "colorama                           0.3.9    \n",
      "comtypes                           1.1.7    \n",
      "conda                              4.5.11   \n",
      "conda-build                        3.15.1   \n",
      "constantly                         15.1.0   \n",
      "contextlib2                        0.5.5    \n",
      "cryptography                       2.3.1    \n",
      "cycler                             0.10.0   \n",
      "Cython                             0.28.5   \n",
      "cytoolz                            0.9.0.1  \n",
      "dask                               0.19.1   \n",
      "datashape                          0.5.4    \n",
      "decorator                          4.3.0    \n",
      "defusedxml                         0.5.0    \n",
      "distributed                        1.23.1   \n",
      "docutils                           0.14     \n",
      "entrypoints                        0.2.3    \n",
      "et-xmlfile                         1.0.1    \n",
      "fastcache                          1.0.2    \n",
      "filelock                           3.0.8    \n",
      "Flask                              1.0.2    \n",
      "Flask-Cors                         3.0.6    \n",
      "gevent                             1.3.6    \n",
      "glob2                              0.6      \n",
      "greenlet                           0.4.15   \n",
      "h5py                               2.8.0    \n",
      "heapdict                           1.0.0    \n",
      "html5lib                           1.0.1    \n",
      "hyperlink                          18.0.0   \n",
      "idna                               2.7      \n",
      "imageio                            2.4.1    \n",
      "imagesize                          1.1.0    \n",
      "incremental                        17.5.0   \n",
      "ipykernel                          4.10.0   \n",
      "ipython                            6.5.0    \n",
      "ipython-genutils                   0.2.0    \n",
      "ipywidgets                         7.4.1    \n",
      "isort                              4.3.4    \n",
      "itsdangerous                       0.24     \n",
      "jdcal                              1.4      \n",
      "jedi                               0.12.1   \n",
      "Jinja2                             2.10     \n",
      "jsonschema                         2.6.0    \n",
      "jupyter                            1.0.0    \n",
      "jupyter-client                     5.2.3    \n",
      "jupyter-console                    5.2.0    \n",
      "jupyter-core                       4.4.0    \n",
      "jupyterlab                         0.34.9   \n",
      "jupyterlab-launcher                0.13.1   \n",
      "jupyterthemes                      0.19.6   \n",
      "keyring                            13.2.1   \n",
      "kiwisolver                         1.0.1    \n",
      "lazy-object-proxy                  1.3.1    \n",
      "lesscpy                            0.13.0   \n",
      "llvmlite                           0.24.0   \n",
      "locket                             0.2.0    \n",
      "lxml                               4.2.5    \n",
      "MarkupSafe                         1.0      \n",
      "matplotlib                         2.2.3    \n",
      "mccabe                             0.6.1    \n",
      "menuinst                           1.4.14   \n",
      "mistune                            0.8.3    \n",
      "mkl-fft                            1.0.4    \n",
      "mkl-random                         1.0.1    \n",
      "more-itertools                     4.3.0    \n",
      "mpmath                             1.0.0    \n",
      "msgpack                            0.5.6    \n",
      "multipledispatch                   0.6.0    \n",
      "navigator-updater                  0.2.1    \n",
      "nbconvert                          5.4.0    \n",
      "nbformat                           4.4.0    \n",
      "networkx                           2.1      \n",
      "nltk                               3.3      \n",
      "nose                               1.3.7    \n",
      "notebook                           5.7.0    \n",
      "numba                              0.39.0   \n",
      "numexpr                            2.6.8    \n",
      "numpy                              1.15.1   \n",
      "numpydoc                           0.8.0    \n",
      "odo                                0.5.1    \n",
      "olefile                            0.46     \n",
      "openpyxl                           2.5.6    \n",
      "packaging                          17.1     \n",
      "pandas                             0.23.4   \n",
      "pandocfilters                      1.4.2    \n",
      "parso                              0.3.1    \n",
      "partd                              0.3.8    \n",
      "path.py                            11.1.0   \n",
      "pathlib2                           2.3.2    \n",
      "patsy                              0.5.0    \n",
      "pep8                               1.7.1    \n",
      "pickleshare                        0.7.4    \n",
      "Pillow                             5.2.0    \n",
      "pip                                10.0.1   \n",
      "pkginfo                            1.4.2    \n",
      "pluggy                             0.7.1    \n",
      "ply                                3.11     \n",
      "prometheus-client                  0.3.1    \n",
      "prompt-toolkit                     1.0.15   \n",
      "psutil                             5.4.7    \n",
      "py                                 1.6.0    \n",
      "pyasn1                             0.4.4    \n",
      "pyasn1-modules                     0.2.2    \n",
      "pycodestyle                        2.4.0    \n",
      "pycosat                            0.6.3    \n",
      "pycparser                          2.18     \n",
      "pycrypto                           2.6.1    \n",
      "pycurl                             7.43.0.2 \n",
      "pyflakes                           2.0.0    \n",
      "Pygments                           2.2.0    \n",
      "pylint                             2.1.1    \n",
      "pyodbc                             4.0.24   \n",
      "pyOpenSSL                          18.0.0   \n",
      "pyparsing                          2.2.0    \n",
      "PySocks                            1.6.8    \n",
      "pytest                             3.8.0    \n",
      "pytest-arraydiff                   0.2      \n",
      "pytest-astropy                     0.4.0    \n",
      "pytest-doctestplus                 0.1.3    \n",
      "pytest-openfiles                   0.3.0    \n",
      "pytest-remotedata                  0.3.0    \n",
      "python-dateutil                    2.7.3    \n",
      "pytz                               2018.5   \n",
      "PyWavelets                         1.0.0    \n",
      "pywin32                            223      \n",
      "pywinpty                           0.5.4    \n",
      "PyYAML                             3.13     \n",
      "pyzmq                              17.1.2   \n",
      "QtAwesome                          0.4.4    \n",
      "qtconsole                          4.4.1    \n",
      "QtPy                               1.5.0    \n",
      "requests                           2.19.1   \n",
      "rope                               0.11.0   \n",
      "ruamel-yaml                        0.15.46  \n",
      "scikit-image                       0.14.0   \n",
      "scikit-learn                       0.19.2   \n",
      "scipy                              1.1.0    \n",
      "seaborn                            0.9.0    \n",
      "Send2Trash                         1.5.0    \n",
      "service-identity                   17.0.0   \n",
      "setuptools                         40.2.0   \n",
      "simplegeneric                      0.8.1    \n",
      "singledispatch                     3.4.0.3  \n",
      "six                                1.11.0   \n",
      "snowballstemmer                    1.2.1    \n",
      "sortedcollections                  1.0.1    \n",
      "sortedcontainers                   2.0.5    \n",
      "Sphinx                             1.7.9    \n",
      "sphinxcontrib-websupport           1.1.0    \n",
      "spyder                             3.3.1    \n",
      "spyder-kernels                     0.2.6    \n",
      "SQLAlchemy                         1.2.11   \n",
      "statsmodels                        0.9.0    \n",
      "sympy                              1.1.1    \n",
      "tables                             3.4.4    \n",
      "tblib                              1.3.2    \n",
      "terminado                          0.8.1    \n",
      "testpath                           0.3.1    \n",
      "toolz                              0.9.0    \n",
      "tornado                            5.1      \n",
      "tqdm                               4.26.0   \n",
      "traitlets                          4.3.2    \n",
      "Twisted                            18.7.0   \n",
      "unicodecsv                         0.14.1   \n",
      "urllib3                            1.23     \n",
      "wcwidth                            0.1.7    \n",
      "webencodings                       0.5.1    \n",
      "Werkzeug                           0.14.1   \n",
      "wheel                              0.31.1   \n",
      "widgetsnbextension                 3.4.1    \n",
      "win-inet-pton                      1.0.1    \n",
      "win-unicode-console                0.5      \n",
      "wincertstore                       0.2      \n",
      "wrapt                              1.10.11  \n",
      "xlrd                               1.1.0    \n",
      "XlsxWriter                         1.1.0    \n",
      "xlwings                            0.11.8   \n",
      "xlwt                               1.3.0    \n",
      "zict                               0.1.3    \n",
      "zope.interface                     4.5.0    \n"
     ]
    }
   ],
   "source": [
    "!pip list"
   ]
  },
  {
   "cell_type": "markdown",
   "metadata": {},
   "source": [
    "## Magic commands\n",
    "Using a % symbol with a command is a means for accessing a magic command. This is kind of like what would happen when running something from the terminal. Corey says that these are like bash commands. Notice how some of the commands are listed as \"cell magics\". Examples below:"
   ]
  },
  {
   "cell_type": "code",
   "execution_count": 5,
   "metadata": {},
   "outputs": [
    {
     "data": {
      "application/json": {
       "cell": {
        "!": "OSMagics",
        "HTML": "Other",
        "SVG": "Other",
        "bash": "Other",
        "capture": "ExecutionMagics",
        "cmd": "Other",
        "debug": "ExecutionMagics",
        "file": "Other",
        "html": "DisplayMagics",
        "javascript": "DisplayMagics",
        "js": "DisplayMagics",
        "latex": "DisplayMagics",
        "markdown": "DisplayMagics",
        "perl": "Other",
        "prun": "ExecutionMagics",
        "pypy": "Other",
        "python": "Other",
        "python2": "Other",
        "python3": "Other",
        "ruby": "Other",
        "script": "ScriptMagics",
        "sh": "Other",
        "svg": "DisplayMagics",
        "sx": "OSMagics",
        "system": "OSMagics",
        "time": "ExecutionMagics",
        "timeit": "ExecutionMagics",
        "writefile": "OSMagics"
       },
       "line": {
        "alias": "OSMagics",
        "alias_magic": "BasicMagics",
        "autocall": "AutoMagics",
        "automagic": "AutoMagics",
        "autosave": "KernelMagics",
        "bookmark": "OSMagics",
        "cd": "OSMagics",
        "clear": "KernelMagics",
        "cls": "KernelMagics",
        "colors": "BasicMagics",
        "config": "ConfigMagics",
        "connect_info": "KernelMagics",
        "copy": "Other",
        "ddir": "Other",
        "debug": "ExecutionMagics",
        "dhist": "OSMagics",
        "dirs": "OSMagics",
        "doctest_mode": "BasicMagics",
        "echo": "Other",
        "ed": "Other",
        "edit": "KernelMagics",
        "env": "OSMagics",
        "gui": "BasicMagics",
        "hist": "Other",
        "history": "HistoryMagics",
        "killbgscripts": "ScriptMagics",
        "ldir": "Other",
        "less": "KernelMagics",
        "load": "CodeMagics",
        "load_ext": "ExtensionMagics",
        "loadpy": "CodeMagics",
        "logoff": "LoggingMagics",
        "logon": "LoggingMagics",
        "logstart": "LoggingMagics",
        "logstate": "LoggingMagics",
        "logstop": "LoggingMagics",
        "ls": "Other",
        "lsmagic": "BasicMagics",
        "macro": "ExecutionMagics",
        "magic": "BasicMagics",
        "matplotlib": "PylabMagics",
        "mkdir": "Other",
        "more": "KernelMagics",
        "notebook": "BasicMagics",
        "page": "BasicMagics",
        "pastebin": "CodeMagics",
        "pdb": "ExecutionMagics",
        "pdef": "NamespaceMagics",
        "pdoc": "NamespaceMagics",
        "pfile": "NamespaceMagics",
        "pinfo": "NamespaceMagics",
        "pinfo2": "NamespaceMagics",
        "pip": "BasicMagics",
        "popd": "OSMagics",
        "pprint": "BasicMagics",
        "precision": "BasicMagics",
        "profile": "BasicMagics",
        "prun": "ExecutionMagics",
        "psearch": "NamespaceMagics",
        "psource": "NamespaceMagics",
        "pushd": "OSMagics",
        "pwd": "OSMagics",
        "pycat": "OSMagics",
        "pylab": "PylabMagics",
        "qtconsole": "KernelMagics",
        "quickref": "BasicMagics",
        "recall": "HistoryMagics",
        "rehashx": "OSMagics",
        "reload_ext": "ExtensionMagics",
        "ren": "Other",
        "rep": "Other",
        "rerun": "HistoryMagics",
        "reset": "NamespaceMagics",
        "reset_selective": "NamespaceMagics",
        "rmdir": "Other",
        "run": "ExecutionMagics",
        "save": "CodeMagics",
        "sc": "OSMagics",
        "set_env": "OSMagics",
        "store": "StoreMagics",
        "sx": "OSMagics",
        "system": "OSMagics",
        "tb": "ExecutionMagics",
        "time": "ExecutionMagics",
        "timeit": "ExecutionMagics",
        "unalias": "OSMagics",
        "unload_ext": "ExtensionMagics",
        "who": "NamespaceMagics",
        "who_ls": "NamespaceMagics",
        "whos": "NamespaceMagics",
        "xdel": "NamespaceMagics",
        "xmode": "BasicMagics"
       }
      },
      "text/plain": [
       "Available line magics:\n",
       "%alias  %alias_magic  %autocall  %automagic  %autosave  %bookmark  %cd  %clear  %cls  %colors  %config  %connect_info  %copy  %ddir  %debug  %dhist  %dirs  %doctest_mode  %echo  %ed  %edit  %env  %gui  %hist  %history  %killbgscripts  %ldir  %less  %load  %load_ext  %loadpy  %logoff  %logon  %logstart  %logstate  %logstop  %ls  %lsmagic  %macro  %magic  %matplotlib  %mkdir  %more  %notebook  %page  %pastebin  %pdb  %pdef  %pdoc  %pfile  %pinfo  %pinfo2  %popd  %pprint  %precision  %profile  %prun  %psearch  %psource  %pushd  %pwd  %pycat  %pylab  %qtconsole  %quickref  %recall  %rehashx  %reload_ext  %ren  %rep  %rerun  %reset  %reset_selective  %rmdir  %run  %save  %sc  %set_env  %store  %sx  %system  %tb  %time  %timeit  %unalias  %unload_ext  %who  %who_ls  %whos  %xdel  %xmode\n",
       "\n",
       "Available cell magics:\n",
       "%%!  %%HTML  %%SVG  %%bash  %%capture  %%cmd  %%debug  %%file  %%html  %%javascript  %%js  %%latex  %%markdown  %%perl  %%prun  %%pypy  %%python  %%python2  %%python3  %%ruby  %%script  %%sh  %%svg  %%sx  %%system  %%time  %%timeit  %%writefile\n",
       "\n",
       "Automagic is ON, % prefix IS NOT needed for line magics."
      ]
     },
     "execution_count": 5,
     "metadata": {},
     "output_type": "execute_result"
    }
   ],
   "source": [
    "%lsmagic"
   ]
  },
  {
   "cell_type": "code",
   "execution_count": 6,
   "metadata": {},
   "outputs": [
    {
     "data": {
      "text/plain": [
       "'C:\\\\Users\\\\kahna\\\\PycharmProjects\\\\corey-schafer-youtube-tutorials\\\\file_and_data_access\\\\jupyter_notebooks'"
      ]
     },
     "execution_count": 6,
     "metadata": {},
     "output_type": "execute_result"
    }
   ],
   "source": [
    "%pwd"
   ]
  },
  {
   "cell_type": "code",
   "execution_count": 7,
   "metadata": {},
   "outputs": [
    {
     "name": "stdout",
     "output_type": "stream",
     "text": [
      " Volume in drive C is Windows\n",
      " Volume Serial Number is A8F3-BE90\n",
      "\n",
      " Directory of C:\\Users\\kahna\\PycharmProjects\\corey-schafer-youtube-tutorials\\file_and_data_access\\jupyter_notebooks\n",
      "\n",
      "10/19/2018  03:09 PM    <DIR>          .\n",
      "10/19/2018  03:09 PM    <DIR>          ..\n",
      "10/19/2018  03:09 PM    <DIR>          .ipynb_checkpoints\n",
      "10/19/2018  01:44 PM               235 jupyter_notebooks.py\n",
      "10/19/2018  03:09 PM            56,847 Testing Jupyter.ipynb\n",
      "               2 File(s)         57,082 bytes\n",
      "               3 Dir(s)  105,356,947,456 bytes free\n"
     ]
    }
   ],
   "source": [
    "%ls"
   ]
  },
  {
   "cell_type": "markdown",
   "metadata": {},
   "source": [
    "## MatPlotLib inline command\n",
    "One of the more common magic commands is the MatPlotLib in-line command. This allows for interactive plots to be generated inside of the notebook. If this command is not used, then a plot command will essentially sit and spin, without generating a plot"
   ]
  },
  {
   "cell_type": "code",
   "execution_count": 8,
   "metadata": {},
   "outputs": [],
   "source": [
    "%matplotlib inline"
   ]
  },
  {
   "cell_type": "code",
   "execution_count": 9,
   "metadata": {},
   "outputs": [
    {
     "data": {
      "image/png": "[encoded data removed]",
      "text/plain": [
       "<Figure size 432x288 with 1 Axes>"
      ]
     },
     "metadata": {
      "needs_background": "light"
     },
     "output_type": "display_data"
    }
   ],
   "source": [
    "\"\"\"\n",
    "Simple demo of a scatter plot.\n",
    "\"\"\"\n",
    "\n",
    "import numpy as np\n",
    "import matplotlib.pyplot as plt\n",
    "\n",
    "N = 50\n",
    "x = np.random.rand(N)\n",
    "y = np.random.rand(N)\n",
    "colors = np.random.rand(N)\n",
    "area = np.pi * (15 * np.random.rand(N))**2  # 0 to 15 point radii\n",
    "\n",
    "plt.scatter(x, y, s=area, c=colors, alpha=0.5)\n",
    "plt.show()"
   ]
  },
  {
   "cell_type": "markdown",
   "metadata": {},
   "source": [
    "# The %%HTML inline command allows html to be rendered inline\n",
    "The entire below cell will be interpreted as .html\n",
    "Likewise, some of the other %%Magic commands from above can be used to change cell interpretation. For exmaple, %%javascript"
   ]
  },
  {
   "cell_type": "code",
   "execution_count": 10,
   "metadata": {},
   "outputs": [
    {
     "data": {
      "text/html": [
       "<iframe width=\"560\" height=\"315\" src=\"https://www.youtube.com/embed/YJC6ldI3hWk\" frameborder=\"0\" allowfullscreen></iframe>"
      ],
      "text/plain": [
       "<IPython.core.display.HTML object>"
      ]
     },
     "metadata": {},
     "output_type": "display_data"
    }
   ],
   "source": [
    "%%HTML\n",
    "<iframe width=\"560\" height=\"315\" src=\"https://www.youtube.com/embed/YJC6ldI3hWk\" frameborder=\"0\" allowfullscreen></iframe>\n"
   ]
  },
  {
   "cell_type": "markdown",
   "metadata": {},
   "source": [
    "# The %%timeit command\n",
    "This command allows for a function to be timed. This is a great feature for checking the execution time of various commands"
   ]
  },
  {
   "cell_type": "code",
   "execution_count": 11,
   "metadata": {},
   "outputs": [
    {
     "name": "stdout",
     "output_type": "stream",
     "text": [
      "56.8 µs ± 545 ns per loop (mean ± std. dev. of 7 runs, 10000 loops each)\n"
     ]
    }
   ],
   "source": [
    "%%timeit\n",
    "square_evens = [n*n for n in range(1000)]"
   ]
  },
  {
   "cell_type": "markdown",
   "metadata": {},
   "source": [
    "# Displaying a pandas dataframe from directly in the notebook"
   ]
  },
  {
   "cell_type": "code",
   "execution_count": 12,
   "metadata": {},
   "outputs": [
    {
     "data": {
      "text/html": [
       "<div>\n",
       "<style scoped>\n",
       "    .dataframe tbody tr th:only-of-type {\n",
       "        vertical-align: middle;\n",
       "    }\n",
       "\n",
       "    .dataframe tbody tr th {\n",
       "        vertical-align: top;\n",
       "    }\n",
       "\n",
       "    .dataframe thead th {\n",
       "        text-align: right;\n",
       "    }\n",
       "</style>\n",
       "<table border=\"1\" class=\"dataframe\">\n",
       "  <thead>\n",
       "    <tr style=\"text-align: right;\">\n",
       "      <th></th>\n",
       "      <th>0</th>\n",
       "      <th>1</th>\n",
       "      <th>2</th>\n",
       "      <th>3</th>\n",
       "      <th>4</th>\n",
       "    </tr>\n",
       "  </thead>\n",
       "  <tbody>\n",
       "    <tr>\n",
       "      <th>0</th>\n",
       "      <td>0.153730</td>\n",
       "      <td>0.510358</td>\n",
       "      <td>1.124458</td>\n",
       "      <td>-0.876956</td>\n",
       "      <td>0.357126</td>\n",
       "    </tr>\n",
       "    <tr>\n",
       "      <th>1</th>\n",
       "      <td>1.099498</td>\n",
       "      <td>0.760331</td>\n",
       "      <td>-0.117083</td>\n",
       "      <td>-1.647726</td>\n",
       "      <td>1.424839</td>\n",
       "    </tr>\n",
       "    <tr>\n",
       "      <th>2</th>\n",
       "      <td>-0.984966</td>\n",
       "      <td>0.845130</td>\n",
       "      <td>0.828456</td>\n",
       "      <td>0.814739</td>\n",
       "      <td>1.134831</td>\n",
       "    </tr>\n",
       "    <tr>\n",
       "      <th>3</th>\n",
       "      <td>2.263503</td>\n",
       "      <td>1.307865</td>\n",
       "      <td>0.693401</td>\n",
       "      <td>-1.325955</td>\n",
       "      <td>2.088014</td>\n",
       "    </tr>\n",
       "    <tr>\n",
       "      <th>4</th>\n",
       "      <td>1.053038</td>\n",
       "      <td>-2.233266</td>\n",
       "      <td>-0.036639</td>\n",
       "      <td>-1.089240</td>\n",
       "      <td>-1.287327</td>\n",
       "    </tr>\n",
       "    <tr>\n",
       "      <th>5</th>\n",
       "      <td>-1.557725</td>\n",
       "      <td>0.022833</td>\n",
       "      <td>-0.317425</td>\n",
       "      <td>1.055096</td>\n",
       "      <td>-1.571543</td>\n",
       "    </tr>\n",
       "    <tr>\n",
       "      <th>6</th>\n",
       "      <td>0.276923</td>\n",
       "      <td>0.423287</td>\n",
       "      <td>-0.455031</td>\n",
       "      <td>-0.341648</td>\n",
       "      <td>-0.150208</td>\n",
       "    </tr>\n",
       "    <tr>\n",
       "      <th>7</th>\n",
       "      <td>1.727392</td>\n",
       "      <td>0.236159</td>\n",
       "      <td>1.143909</td>\n",
       "      <td>-0.718367</td>\n",
       "      <td>1.399655</td>\n",
       "    </tr>\n",
       "    <tr>\n",
       "      <th>8</th>\n",
       "      <td>0.241451</td>\n",
       "      <td>-0.459436</td>\n",
       "      <td>-0.022551</td>\n",
       "      <td>-0.032981</td>\n",
       "      <td>0.246568</td>\n",
       "    </tr>\n",
       "    <tr>\n",
       "      <th>9</th>\n",
       "      <td>-0.271540</td>\n",
       "      <td>-2.076191</td>\n",
       "      <td>-0.193655</td>\n",
       "      <td>0.876666</td>\n",
       "      <td>-0.196437</td>\n",
       "    </tr>\n",
       "  </tbody>\n",
       "</table>\n",
       "</div>"
      ],
      "text/plain": [
       "          0         1         2         3         4\n",
       "0  0.153730  0.510358  1.124458 -0.876956  0.357126\n",
       "1  1.099498  0.760331 -0.117083 -1.647726  1.424839\n",
       "2 -0.984966  0.845130  0.828456  0.814739  1.134831\n",
       "3  2.263503  1.307865  0.693401 -1.325955  2.088014\n",
       "4  1.053038 -2.233266 -0.036639 -1.089240 -1.287327\n",
       "5 -1.557725  0.022833 -0.317425  1.055096 -1.571543\n",
       "6  0.276923  0.423287 -0.455031 -0.341648 -0.150208\n",
       "7  1.727392  0.236159  1.143909 -0.718367  1.399655\n",
       "8  0.241451 -0.459436 -0.022551 -0.032981  0.246568\n",
       "9 -0.271540 -2.076191 -0.193655  0.876666 -0.196437"
      ]
     },
     "execution_count": 12,
     "metadata": {},
     "output_type": "execute_result"
    }
   ],
   "source": [
    "import pandas as pd\n",
    "import numpy as np\n",
    "\n",
    "df = pd.DataFrame(np.random.randn(10, 5))  # A random data frame\n",
    "df"
   ]
  },
  {
   "cell_type": "markdown",
   "metadata": {},
   "source": [
    "# Exporting to .html\n",
    "File -> Download as -> whatever"
   ]
  },
  {
   "cell_type": "markdown",
   "metadata": {},
   "source": [
    "# Additional resources\n",
    "https://github.com/jupyter/jupyter/wiki/A-gallery-of-interesting-Jupyter-Notebooks contains plenty more notebooks to work through and various tutorials on assorted topics from numpy to matplotlib, and machine learning as well.\n",
    "\n",
    "One notable link from this collection is at https://nbviewer.jupyter.org/github/ipython/ipython/blob/master/examples/IPython%20Kernel/Index.ipynb, which contains further data about cell magics, script magics, etc."
   ]
  },
  {
   "cell_type": "code",
   "execution_count": null,
   "metadata": {},
   "outputs": [],
   "source": []
  }
 ],
 "metadata": {
  "kernelspec": {
   "display_name": "Python 3",
   "language": "python",
   "name": "python3"
  },
  "language_info": {
   "codemirror_mode": {
    "name": "ipython",
    "version": 3
   },
   "file_extension": ".py",
   "mimetype": "text/x-python",
   "name": "python",
   "nbconvert_exporter": "python",
   "pygments_lexer": "ipython3",
   "version": "3.7.0"
  }
 },
 "nbformat": 4,
 "nbformat_minor": 2
}
